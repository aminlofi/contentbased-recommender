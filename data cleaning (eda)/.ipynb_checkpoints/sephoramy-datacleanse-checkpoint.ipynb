{
 "cells": [
  {
   "cell_type": "code",
   "execution_count": 13,
   "metadata": {},
   "outputs": [],
   "source": [
    "import pandas as pd\n",
    "import re "
   ]
  },
  {
   "cell_type": "code",
   "execution_count": 14,
   "metadata": {},
   "outputs": [],
   "source": [
    "# load data from csv file (dataset)\n",
    "df = pd.read_csv(\"C:/Users/Amin/project-amin/web scraping/sephoramy_webscrape_dataset_raw.csv\")"
   ]
  },
  {
   "cell_type": "code",
   "execution_count": 15,
   "metadata": {},
   "outputs": [
    {
     "data": {
      "text/html": [
       "<div>\n",
       "<style scoped>\n",
       "    .dataframe tbody tr th:only-of-type {\n",
       "        vertical-align: middle;\n",
       "    }\n",
       "\n",
       "    .dataframe tbody tr th {\n",
       "        vertical-align: top;\n",
       "    }\n",
       "\n",
       "    .dataframe thead th {\n",
       "        text-align: right;\n",
       "    }\n",
       "</style>\n",
       "<table border=\"1\" class=\"dataframe\">\n",
       "  <thead>\n",
       "    <tr style=\"text-align: right;\">\n",
       "      <th></th>\n",
       "      <th>Category</th>\n",
       "      <th>URL</th>\n",
       "      <th>brand</th>\n",
       "      <th>name</th>\n",
       "      <th>price</th>\n",
       "      <th>skin_type</th>\n",
       "      <th>skin_concern</th>\n",
       "      <th>rating</th>\n",
       "    </tr>\n",
       "  </thead>\n",
       "  <tbody>\n",
       "    <tr>\n",
       "      <th>0</th>\n",
       "      <td>cleanser-and-exfoliator</td>\n",
       "      <td>https://www.sephora.my/products/origins-go-go-...</td>\n",
       "      <td>ORIGINS</td>\n",
       "      <td>Go Go Ginzing™ Skincare Trio To Cleanse, Hydra...</td>\n",
       "      <td>RM130.00</td>\n",
       "      <td>Skin Type: Combination, Dry, Normal, Oily</td>\n",
       "      <td>Dark Circles, Dryness, Dullness, Puffiness</td>\n",
       "      <td>0.0</td>\n",
       "    </tr>\n",
       "    <tr>\n",
       "      <th>1</th>\n",
       "      <td>cleanser-and-exfoliator</td>\n",
       "      <td>https://www.sephora.my/products/gallinee-face-...</td>\n",
       "      <td>GALLINÉE</td>\n",
       "      <td>Face Mask &amp; Scrub</td>\n",
       "      <td>RM45.00</td>\n",
       "      <td>Skin Type: Combination, Dry, Normal, Oily, Sen...</td>\n",
       "      <td>Dryness, Dullness, Uneven Skin Tone</td>\n",
       "      <td>4.5</td>\n",
       "    </tr>\n",
       "    <tr>\n",
       "      <th>2</th>\n",
       "      <td>cleanser-and-exfoliator</td>\n",
       "      <td>https://www.sephora.my/products/the-inkey-list...</td>\n",
       "      <td>THE INKEY LIST</td>\n",
       "      <td>Oat Cleansing Balm • 150ml</td>\n",
       "      <td>RM46.00</td>\n",
       "      <td>Skin Type: Combination, Dry, Normal, Oily</td>\n",
       "      <td>Balm</td>\n",
       "      <td>4.0</td>\n",
       "    </tr>\n",
       "    <tr>\n",
       "      <th>3</th>\n",
       "      <td>cleanser-and-exfoliator</td>\n",
       "      <td>https://www.sephora.my/products/fresh-soy-face...</td>\n",
       "      <td>FRESH</td>\n",
       "      <td>Soy Face Cleanser</td>\n",
       "      <td>RM177.00</td>\n",
       "      <td>Skin Type: Combination, Dry, Normal, Oily, Sen...</td>\n",
       "      <td>Dryness, Ageing, Dullness, Firmness &amp; Elasticity</td>\n",
       "      <td>4.5</td>\n",
       "    </tr>\n",
       "    <tr>\n",
       "      <th>4</th>\n",
       "      <td>cleanser-and-exfoliator</td>\n",
       "      <td>https://www.sephora.my/products/origins-best-o...</td>\n",
       "      <td>ORIGINS</td>\n",
       "      <td>Best Of The Season Skincare Set To Cleanse, Pr...</td>\n",
       "      <td>RM65.00</td>\n",
       "      <td>Skin Type: Combination, Dry, Normal, Oily</td>\n",
       "      <td>Dryness, Dullness, Oiliness</td>\n",
       "      <td>3.5</td>\n",
       "    </tr>\n",
       "  </tbody>\n",
       "</table>\n",
       "</div>"
      ],
      "text/plain": [
       "                  Category                                                URL  \\\n",
       "0  cleanser-and-exfoliator  https://www.sephora.my/products/origins-go-go-...   \n",
       "1  cleanser-and-exfoliator  https://www.sephora.my/products/gallinee-face-...   \n",
       "2  cleanser-and-exfoliator  https://www.sephora.my/products/the-inkey-list...   \n",
       "3  cleanser-and-exfoliator  https://www.sephora.my/products/fresh-soy-face...   \n",
       "4  cleanser-and-exfoliator  https://www.sephora.my/products/origins-best-o...   \n",
       "\n",
       "            brand                                               name  \\\n",
       "0         ORIGINS  Go Go Ginzing™ Skincare Trio To Cleanse, Hydra...   \n",
       "1        GALLINÉE                                  Face Mask & Scrub   \n",
       "2  THE INKEY LIST                         Oat Cleansing Balm • 150ml   \n",
       "3           FRESH                                  Soy Face Cleanser   \n",
       "4         ORIGINS  Best Of The Season Skincare Set To Cleanse, Pr...   \n",
       "\n",
       "      price                                          skin_type  \\\n",
       "0  RM130.00          Skin Type: Combination, Dry, Normal, Oily   \n",
       "1   RM45.00  Skin Type: Combination, Dry, Normal, Oily, Sen...   \n",
       "2   RM46.00          Skin Type: Combination, Dry, Normal, Oily   \n",
       "3  RM177.00  Skin Type: Combination, Dry, Normal, Oily, Sen...   \n",
       "4   RM65.00          Skin Type: Combination, Dry, Normal, Oily   \n",
       "\n",
       "                                       skin_concern  rating  \n",
       "0        Dark Circles, Dryness, Dullness, Puffiness     0.0  \n",
       "1               Dryness, Dullness, Uneven Skin Tone     4.5  \n",
       "2                                              Balm     4.0  \n",
       "3  Dryness, Ageing, Dullness, Firmness & Elasticity     4.5  \n",
       "4                       Dryness, Dullness, Oiliness     3.5  "
      ]
     },
     "execution_count": 15,
     "metadata": {},
     "output_type": "execute_result"
    }
   ],
   "source": [
    "# returns 5 row of the dataframe\n",
    "df.head() "
   ]
  },
  {
   "cell_type": "code",
   "execution_count": 16,
   "metadata": {},
   "outputs": [
    {
     "name": "stdout",
     "output_type": "stream",
     "text": [
      "<class 'pandas.core.frame.DataFrame'>\n",
      "RangeIndex: 525 entries, 0 to 524\n",
      "Data columns (total 8 columns):\n",
      " #   Column        Non-Null Count  Dtype  \n",
      "---  ------        --------------  -----  \n",
      " 0   Category      525 non-null    object \n",
      " 1   URL           525 non-null    object \n",
      " 2   brand         524 non-null    object \n",
      " 3   name          522 non-null    object \n",
      " 4   price         522 non-null    object \n",
      " 5   skin_type     504 non-null    object \n",
      " 6   skin_concern  498 non-null    object \n",
      " 7   rating        523 non-null    float64\n",
      "dtypes: float64(1), object(7)\n",
      "memory usage: 32.9+ KB\n"
     ]
    }
   ],
   "source": [
    "# return data type of each object and memory usage\n",
    "df.info()"
   ]
  },
  {
   "cell_type": "code",
   "execution_count": 17,
   "metadata": {
    "scrolled": true
   },
   "outputs": [
    {
     "name": "stdout",
     "output_type": "stream",
     "text": [
      "<class 'pandas.core.frame.DataFrame'>\n",
      "Int64Index: 487 entries, 0 to 524\n",
      "Data columns (total 8 columns):\n",
      " #   Column        Non-Null Count  Dtype  \n",
      "---  ------        --------------  -----  \n",
      " 0   Category      487 non-null    object \n",
      " 1   URL           487 non-null    object \n",
      " 2   brand         487 non-null    object \n",
      " 3   name          487 non-null    object \n",
      " 4   price         487 non-null    object \n",
      " 5   skin_type     487 non-null    object \n",
      " 6   skin_concern  487 non-null    object \n",
      " 7   rating        487 non-null    float64\n",
      "dtypes: float64(1), object(7)\n",
      "memory usage: 34.2+ KB\n"
     ]
    }
   ],
   "source": [
    "# drop all the rows data with missing values\n",
    "df = df.dropna()\n",
    "df.info()"
   ]
  },
  {
   "cell_type": "code",
   "execution_count": 18,
   "metadata": {},
   "outputs": [],
   "source": [
    "# reset back the index number after changes earlier, drop the old index column and save the updated changes \n",
    "df.reset_index(drop=True, inplace=True)"
   ]
  },
  {
   "cell_type": "code",
   "execution_count": 19,
   "metadata": {},
   "outputs": [
    {
     "name": "stdout",
     "output_type": "stream",
     "text": [
      "<class 'pandas.core.frame.DataFrame'>\n",
      "RangeIndex: 487 entries, 0 to 486\n",
      "Data columns (total 8 columns):\n",
      " #   Column        Non-Null Count  Dtype  \n",
      "---  ------        --------------  -----  \n",
      " 0   Category      487 non-null    object \n",
      " 1   URL           487 non-null    object \n",
      " 2   brand         487 non-null    object \n",
      " 3   name          487 non-null    object \n",
      " 4   price         487 non-null    object \n",
      " 5   skin_type     487 non-null    object \n",
      " 6   skin_concern  487 non-null    object \n",
      " 7   rating        487 non-null    float64\n",
      "dtypes: float64(1), object(7)\n",
      "memory usage: 30.6+ KB\n"
     ]
    }
   ],
   "source": [
    "df.info()"
   ]
  },
  {
   "cell_type": "code",
   "execution_count": null,
   "metadata": {},
   "outputs": [],
   "source": [
    "# since there exist multiple duplicate products, we can drop this rows by identifying them from their name"
   ]
  }
 ],
 "metadata": {
  "kernelspec": {
   "display_name": "Python 3",
   "language": "python",
   "name": "python3"
  },
  "language_info": {
   "codemirror_mode": {
    "name": "ipython",
    "version": 3
   },
   "file_extension": ".py",
   "mimetype": "text/x-python",
   "name": "python",
   "nbconvert_exporter": "python",
   "pygments_lexer": "ipython3",
   "version": "3.8.3"
  }
 },
 "nbformat": 4,
 "nbformat_minor": 4
}
